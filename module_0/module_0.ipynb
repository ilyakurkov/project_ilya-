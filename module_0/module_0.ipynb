{
 "cells": [
  {
   "cell_type": "code",
   "execution_count": 7,
   "metadata": {},
   "outputs": [],
   "source": [
    "import random             \n",
    "number = random.randint(1,101) #hidden number\n",
    "\n",
    "def number_search(divider, number, predict): #function: search for the hidden number. функция:поиск загаданного числа\n",
    " count = 1   \n",
    " while number != predict:\n",
    "         count+=1\n",
    "         if number > predict: \n",
    "             predict += divider\n",
    "         elif number < predict: \n",
    "            predict -= divider\n",
    " return(count)          \n",
    " \n",
    "#divisor search:\n",
    "predict = 48\n",
    "if number % 10 == 0:\n",
    "        predict += 2\n",
    "        number_search(10, number, predict)\n",
    "        \n",
    "elif number % 5 == 0:  \n",
    "        predict += 2\n",
    "        number_search(5, number, predict)\n",
    "        \n",
    "elif number % 4 == 0: \n",
    "        number_search(4, number, predict)\n",
    "        \n",
    "elif number % 3 == 0: \n",
    "        number_search(3, number, predict)\n",
    "   \n",
    "elif number % 2 == 0:\n",
    "        number_search(2, number, predict)\n",
    "    \n",
    "elif number % 1 == 0:\n",
    "        number_search(1, number, predict)\n"
   ]
  },
  {
   "cell_type": "code",
   "execution_count": null,
   "metadata": {},
   "outputs": [],
   "source": []
  }
 ],
 "metadata": {
  "kernelspec": {
   "display_name": "Python 3",
   "language": "python",
   "name": "python3"
  },
  "language_info": {
   "codemirror_mode": {
    "name": "ipython",
    "version": 3
   },
   "file_extension": ".py",
   "mimetype": "text/x-python",
   "name": "python",
   "nbconvert_exporter": "python",
   "pygments_lexer": "ipython3",
   "version": "3.8.3"
  }
 },
 "nbformat": 4,
 "nbformat_minor": 4
}
